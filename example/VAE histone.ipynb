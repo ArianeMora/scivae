{
 "cells": [
  {
   "cell_type": "markdown",
   "metadata": {},
   "source": [
    "## Example using Histone modification data downloaded from Encode"
   ]
  },
  {
   "cell_type": "code",
   "execution_count": 1,
   "metadata": {},
   "outputs": [
    {
     "name": "stderr",
     "output_type": "stream",
     "text": [
      "Using TensorFlow backend.\n"
     ]
    },
    {
     "name": "stdout",
     "output_type": "stream",
     "text": [
      "Model: \"encoder\"\n",
      "__________________________________________________________________________________________________\n",
      "Layer (type)                    Output Shape         Param #     Connected to                     \n",
      "==================================================================================================\n",
      "default_input (InputLayer)      (None, 4)            0                                            \n",
      "__________________________________________________________________________________________________\n",
      "dense_1 (Dense)                 (None, 3)            15          default_input[0][0]              \n",
      "__________________________________________________________________________________________________\n",
      "batch_normalization_1 (BatchNor (None, 3)            12          dense_1[0][0]                    \n",
      "__________________________________________________________________________________________________\n",
      "z_mean (Dense)                  (None, 2)            8           batch_normalization_1[0][0]      \n",
      "__________________________________________________________________________________________________\n",
      "z_log_sigma (Dense)             (None, 2)            8           batch_normalization_1[0][0]      \n",
      "__________________________________________________________________________________________________\n",
      "z (Lambda)                      (None, 2)            0           z_mean[0][0]                     \n",
      "                                                                 z_log_sigma[0][0]                \n",
      "==================================================================================================\n",
      "Total params: 43\n",
      "Trainable params: 37\n",
      "Non-trainable params: 6\n",
      "__________________________________________________________________________________________________\n",
      "Model: \"decoder\"\n",
      "_________________________________________________________________\n",
      "Layer (type)                 Output Shape              Param #   \n",
      "=================================================================\n",
      "z_sampling (InputLayer)      (None, 2)                 0         \n",
      "_________________________________________________________________\n",
      "dense_2 (Dense)              (None, 3)                 9         \n",
      "_________________________________________________________________\n",
      "batch_normalization_2 (Batch (None, 3)                 12        \n",
      "_________________________________________________________________\n",
      "dense_3 (Dense)              (None, 4)                 16        \n",
      "_________________________________________________________________\n",
      "batch_normalization_3 (Batch (None, 4)                 16        \n",
      "=================================================================\n",
      "Total params: 53\n",
      "Trainable params: 39\n",
      "Non-trainable params: 14\n",
      "_________________________________________________________________\n",
      "Model: \"vae_mlp\"\n",
      "_________________________________________________________________\n",
      "Layer (type)                 Output Shape              Param #   \n",
      "=================================================================\n",
      "default_input (InputLayer)   (None, 4)                 0         \n",
      "_________________________________________________________________\n",
      "encoder (Model)              [(None, 2), (None, 2), (N 43        \n",
      "_________________________________________________________________\n",
      "decoder (Model)              (None, 4)                 53        \n",
      "=================================================================\n",
      "Total params: 96\n",
      "Trainable params: 76\n",
      "Non-trainable params: 20\n",
      "_________________________________________________________________\n",
      "Train on 127 samples, validate on 23 samples\n",
      "Epoch 1/50\n",
      "127/127 [==============================] - 1s 6ms/step - loss: 5.5509 - val_loss: 0.5444\n",
      "Epoch 2/50\n",
      "127/127 [==============================] - 0s 102us/step - loss: 4.6004 - val_loss: 0.5455\n",
      "Epoch 3/50\n",
      "127/127 [==============================] - 0s 78us/step - loss: 4.0048 - val_loss: 0.5668\n",
      "Epoch 4/50\n",
      "127/127 [==============================] - 0s 79us/step - loss: 3.7169 - val_loss: 0.4941\n",
      "Epoch 5/50\n",
      "127/127 [==============================] - 0s 79us/step - loss: 3.3144 - val_loss: 0.5508\n",
      "Epoch 6/50\n",
      "127/127 [==============================] - 0s 80us/step - loss: 2.8768 - val_loss: 0.4142\n",
      "Epoch 7/50\n",
      "127/127 [==============================] - 0s 73us/step - loss: 2.5662 - val_loss: 0.3767\n",
      "Epoch 8/50\n",
      "127/127 [==============================] - 0s 78us/step - loss: 2.1800 - val_loss: 0.4813\n",
      "Epoch 9/50\n",
      "127/127 [==============================] - 0s 77us/step - loss: 1.8815 - val_loss: 0.5516\n",
      "Epoch 10/50\n",
      "127/127 [==============================] - 0s 75us/step - loss: 1.7070 - val_loss: 0.4488\n",
      "Epoch 11/50\n",
      "127/127 [==============================] - 0s 77us/step - loss: 1.5571 - val_loss: 0.4016\n",
      "Epoch 12/50\n",
      "127/127 [==============================] - 0s 78us/step - loss: 1.5214 - val_loss: 0.4128\n",
      "Epoch 13/50\n",
      "127/127 [==============================] - 0s 76us/step - loss: 1.2096 - val_loss: 0.6070\n",
      "Epoch 14/50\n",
      "127/127 [==============================] - 0s 79us/step - loss: 1.0576 - val_loss: 0.6229\n",
      "Epoch 15/50\n",
      "127/127 [==============================] - 0s 79us/step - loss: 1.0526 - val_loss: 0.5220\n",
      "Epoch 16/50\n",
      "127/127 [==============================] - 0s 75us/step - loss: 0.9590 - val_loss: 0.7400\n",
      "Epoch 17/50\n",
      "127/127 [==============================] - 0s 77us/step - loss: 0.7929 - val_loss: 0.3847\n",
      "Epoch 18/50\n",
      "127/127 [==============================] - 0s 75us/step - loss: 0.6907 - val_loss: 0.4645\n",
      "Epoch 19/50\n",
      "127/127 [==============================] - 0s 77us/step - loss: 0.6539 - val_loss: 0.4973\n",
      "Epoch 20/50\n",
      "127/127 [==============================] - 0s 79us/step - loss: 0.5423 - val_loss: 0.4285\n",
      "Epoch 21/50\n",
      "127/127 [==============================] - 0s 78us/step - loss: 0.5326 - val_loss: 0.4255\n",
      "Epoch 22/50\n",
      "127/127 [==============================] - 0s 81us/step - loss: 0.5182 - val_loss: 0.4514\n",
      "Epoch 23/50\n",
      "127/127 [==============================] - 0s 72us/step - loss: 0.4414 - val_loss: 0.3591\n",
      "Epoch 24/50\n",
      "127/127 [==============================] - 0s 77us/step - loss: 0.4289 - val_loss: 0.5585\n",
      "Epoch 25/50\n",
      "127/127 [==============================] - 0s 79us/step - loss: 0.4247 - val_loss: 0.3610\n",
      "Epoch 26/50\n",
      "127/127 [==============================] - 0s 76us/step - loss: 0.4093 - val_loss: 0.4430\n",
      "Epoch 27/50\n",
      "127/127 [==============================] - 0s 77us/step - loss: 0.3335 - val_loss: 0.5866\n",
      "Epoch 28/50\n",
      "127/127 [==============================] - 0s 82us/step - loss: 0.3443 - val_loss: 0.4897\n",
      "Epoch 29/50\n",
      "127/127 [==============================] - 0s 78us/step - loss: 0.3274 - val_loss: 0.4186\n",
      "Epoch 30/50\n",
      "127/127 [==============================] - 0s 78us/step - loss: 0.3175 - val_loss: 0.4601\n",
      "Epoch 31/50\n",
      "127/127 [==============================] - 0s 91us/step - loss: 0.2867 - val_loss: 0.3702\n",
      "Epoch 32/50\n",
      "127/127 [==============================] - 0s 88us/step - loss: 0.2259 - val_loss: 0.4160\n",
      "Epoch 33/50\n",
      "127/127 [==============================] - 0s 72us/step - loss: 0.2433 - val_loss: 0.4658\n",
      "Epoch 34/50\n",
      "127/127 [==============================] - 0s 71us/step - loss: 0.2303 - val_loss: 0.5483\n",
      "Epoch 35/50\n",
      "127/127 [==============================] - 0s 69us/step - loss: 0.2023 - val_loss: 0.4020\n",
      "Epoch 36/50\n",
      "127/127 [==============================] - 0s 67us/step - loss: 0.2062 - val_loss: 0.4044\n",
      "Epoch 37/50\n",
      "127/127 [==============================] - 0s 69us/step - loss: 0.1989 - val_loss: 0.3704\n",
      "Epoch 38/50\n",
      "127/127 [==============================] - 0s 63us/step - loss: 0.1958 - val_loss: 0.3573\n",
      "Epoch 39/50\n",
      "127/127 [==============================] - 0s 68us/step - loss: 0.1893 - val_loss: 0.3718\n",
      "Epoch 40/50\n",
      "127/127 [==============================] - 0s 62us/step - loss: 0.1748 - val_loss: 0.3120\n",
      "Epoch 41/50\n",
      "127/127 [==============================] - 0s 66us/step - loss: 0.1647 - val_loss: 0.2824\n",
      "Epoch 42/50\n",
      "127/127 [==============================] - 0s 71us/step - loss: 0.1717 - val_loss: 0.3504\n",
      "Epoch 43/50\n",
      "127/127 [==============================] - 0s 72us/step - loss: 0.1649 - val_loss: 0.3372\n",
      "Epoch 44/50\n",
      "127/127 [==============================] - 0s 67us/step - loss: 0.1807 - val_loss: 0.2998\n",
      "Epoch 45/50\n",
      "127/127 [==============================] - 0s 61us/step - loss: 0.1725 - val_loss: 0.2808\n",
      "Epoch 46/50\n",
      "127/127 [==============================] - 0s 58us/step - loss: 0.1841 - val_loss: 0.3166\n",
      "Epoch 47/50\n",
      "127/127 [==============================] - 0s 69us/step - loss: 0.1424 - val_loss: 0.3128\n",
      "Epoch 48/50\n",
      "127/127 [==============================] - 0s 63us/step - loss: 0.1774 - val_loss: 0.3295\n",
      "Epoch 49/50\n",
      "127/127 [==============================] - 0s 68us/step - loss: 0.1592 - val_loss: 0.3806\n",
      "Epoch 50/50\n",
      "127/127 [==============================] - 0s 66us/step - loss: 0.2076 - val_loss: 0.2937\n"
     ]
    }
   ],
   "source": [
    "import pandas as pd\n",
    "import numpy as np\n",
    "from scivae import VAE\n",
    "\n",
    "# Set the location of the mnist data\n",
    "data_dir = '../tests/data/'\n",
    "df = pd.read_csv('data/mouse_HM_var500_data.csv')\n",
    "   "
   ]
  },
  {
   "cell_type": "markdown",
   "metadata": {},
   "source": [
    "## Normalise the data\n",
    "\n",
    "Before running the VAE we might only want to do it on a subset, here I'm interested in marks at day E10.5 \n",
    "only in the brain."
   ]
  },
  {
   "cell_type": "code",
   "execution_count": 3,
   "metadata": {},
   "outputs": [
    {
     "data": {
      "text/plain": [
       "<matplotlib.axes._subplots.AxesSubplot at 0x7fa328718f10>"
      ]
     },
     "execution_count": 3,
     "metadata": {},
     "output_type": "execute_result"
    },
    {
     "data": {
      "image/png": "[encoded data removed]",
      "text/plain": [
       "<Figure size 576x432 with 2 Axes>"
      ]
     },
     "metadata": {},
     "output_type": "display_data"
    }
   ],
   "source": [
    "df = df.fillna(0)\n",
    "# Get out columns with HM values\n",
    "cols = [c for c in df.columns if '10' in c and 'brain' in c and 'signal' in c]  # i.e. only do brain at E10 samples\n",
    "# Make sure we log2 the values since they're too diffuse\n",
    "vae_df = pd.DataFrame()\n",
    "vae_df['external_gene_name'] = df['external_gene_name'].values\n",
    "new_cols = []\n",
    "for c in cols:\n",
    "    new_name = ' '.join(c.split('_')[:-3]).replace('embryonic', '')\n",
    "    new_cols.append(new_name)\n",
    "    vae_df[new_name] = np.log2(df[c] + 1)\n",
    "\n",
    "dataset = vae_df[new_cols].values\n",
    "# Create and train VAE"
   ]
  },
  {
   "cell_type": "markdown",
   "metadata": {},
   "source": [
    "## Train the VAE\n",
    "\n",
    "We run the training of the VAE "
   ]
  },
  {
   "cell_type": "code",
   "execution_count": 4,
   "metadata": {},
   "outputs": [
    {
     "name": "stdout",
     "output_type": "stream",
     "text": [
      "0.9736842105263158\n",
      "0.9743589743589745\n"
     ]
    }
   ],
   "source": [
    "vae = VAE(dataset, dataset, [\"None\"] * len(dataset), 'data/histone_config.json', f'vae_rcm', config_as_str=True)\n",
    "vae.encode('default', epochs=10, batch_size=50, logging_dir=self.tmp_dir)"
   ]
  },
  {
   "cell_type": "markdown",
   "metadata": {
    "pycharm": {
     "name": "#%% md\n"
    }
   },
   "source": [
    "## Quality control!\n",
    "\n",
    "Check that the nodes follow **approximately** a normal distribution."
   ]
  },
  {
   "cell_type": "code",
   "execution_count": null,
   "outputs": [],
   "source": [
    "from scivae import Vis\n",
    "\n",
    "vis = Vis(vae, vae.u, None)\n",
    "vis.plot_node_hists(show_plt=True, save_fig=False)"
   ],
   "metadata": {
    "collapsed": false,
    "pycharm": {
     "name": "#%%\n"
    }
   }
  },
  {
   "cell_type": "markdown",
   "source": [
    "## Quality control 2: Visualise the correlation between features.\n",
    "\n",
    "Since the VAE isn't magic, just good at learning correlations/patterns between input features, it's sensible \n",
    "to check that the correlations between features and nodes exists."
   ],
   "metadata": {
    "collapsed": false
   }
  },
  {
   "cell_type": "code",
   "execution_count": null,
   "outputs": [],
   "source": [
    "vis.plot_node_feature_correlation(vae_df, 'external_gene_name', columns=new_cols, show_plt=True, save_fig=False)"
   ],
   "metadata": {
    "collapsed": false,
    "pycharm": {
     "name": "#%%\n"
    }
   }
  },
  {
   "cell_type": "markdown",
   "source": [
    "## Having fun with inspecting the latent space\n",
    "\n",
    "Now we are confident it's learnt stuff, let's look at how all our genes look on the latent space!"
   ],
   "metadata": {
    "collapsed": false
   }
  },
  {
   "cell_type": "code",
   "execution_count": null,
   "outputs": [],
   "source": [
    "vis.plot_feature_scatters(vae_df, 'external_gene_name', columns=new_cols, show_plt=True, fig_type=\"png\", save_fig=True,\n",
    "                          title=\"latent space\", output_dir='test_figures/')\n"
   ],
   "metadata": {
    "collapsed": false,
    "pycharm": {
     "name": "#%%\n"
    }
   }
  },
  {
   "cell_type": "markdown",
   "source": [
    "## Plot specific genes\n",
    "\n",
    "Since we love certain genes, lets have a look at where they are on the latent space"
   ],
   "metadata": {
    "collapsed": false
   }
  },
  {
   "cell_type": "code",
   "execution_count": null,
   "outputs": [],
   "source": [
    "cool_genes = [['Emx1', 'Eomes', 'Tbr1', 'Foxg1', 'Lhx6', 'Arx', 'Dlx1', 'Dlx2', 'Dlx5', 'Nr2e2', 'Otx2'],\n",
    "              ['Hoxd8', 'Hoxd9', 'Hoxd10', 'Hoxd11', 'Hoxd12', 'Hoxd13', 'Hoxa7', 'Hoxa9', 'Hoxa10', 'Hoxa11',\n",
    "              'Hoxa13',\n",
    "              'Hoxb9', 'Hoxb13', 'Hoxc8', 'Hoxc9', 'Hoxc10', 'Hoxc11', 'Hoxc12', 'Hoxc13'],\n",
    "              ['Ccna1', 'Ccna2', 'Ccnd1', 'Ccnd2', 'Ccnd3', 'Ccne1', 'Ccne2', 'Cdc25a',\n",
    "               'Cdc25b', 'Cdc25c', 'E2f1', 'E2f2', 'E2f3', 'Mcm10', 'Mcm5', 'Mcm3', 'Mcm2', 'Cip2a']\n",
    "              ]\n",
    "\n",
    "vis.plot_values_on_scatters(vae_df, \"external_gene_name\", ['Forebrain', 'Spinal cord', 'Pro. Prolif.'],\n",
    "                            cool_genes, show_plt=True, fig_type=\".png\",\n",
    "                            save_fig=False)\n",
    "        "
   ],
   "metadata": {
    "collapsed": false,
    "pycharm": {
     "name": "#%%\n"
    }
   }
  },
  {
   "cell_type": "markdown",
   "source": [],
   "metadata": {
    "collapsed": false
   }
  },
  {
   "cell_type": "code",
   "execution_count": null,
   "outputs": [],
   "source": [],
   "metadata": {
    "collapsed": false,
    "pycharm": {
     "name": "#%%"
    }
   }
  },
  {
   "cell_type": "code",
   "execution_count": null,
   "outputs": [],
   "source": [],
   "metadata": {
    "collapsed": false,
    "pycharm": {
     "name": "#%%\n"
    }
   }
  },
  {
   "cell_type": "markdown",
   "source": [
    "vis.plot_feature_scatters(vae_df, 'external_gene_name', columns=new_cols, show_plt=True, fig_type=\"png\", save_fig=True,\n",
    "                          title=\"latent space\", output_dir='test_figures/')"
   ],
   "metadata": {
    "collapsed": false
   }
  },
  {
   "cell_type": "markdown",
   "source": [
    "vis.plot_node_feature_correlation(vae_df, 'external_gene_name', columns=new_cols, show_plt=True, save_fig=False)\n",
    "\n",
    "vis.plot_feature_scatters(vae_df, 'external_gene_name', columns=new_cols, show_plt=True, fig_type=\"png\", save_fig=True,\n",
    "                          title=\"latent space\", output_dir='test_figures/')"
   ],
   "metadata": {
    "collapsed": false
   }
  },
  {
   "cell_type": "code",
   "execution_count": null,
   "outputs": [],
   "source": [
    "vis.plot_node_feature_correlation(vae_df, 'external_gene_name', columns=new_cols, show_plt=True, save_fig=False)\n",
    "\n",
    "vis.plot_feature_scatters(vae_df, 'external_gene_name', columns=new_cols, show_plt=True, fig_type=\"png\", save_fig=True,\n",
    "                          title=\"latent space\", output_dir='test_figures/')"
   ],
   "metadata": {
    "collapsed": false,
    "pycharm": {
     "name": "#%%\n"
    }
   }
  },
  {
   "cell_type": "code",
   "execution_count": null,
   "outputs": [],
   "source": [
    "vis.plot_node_feature_correlation(vae_df, 'external_gene_name', columns=new_cols, show_plt=True, save_fig=False)\n",
    "\n",
    "vis.plot_feature_scatters(vae_df, 'external_gene_name', columns=new_cols, show_plt=True, fig_type=\"png\", save_fig=True,\n",
    "                          title=\"latent space\", output_dir='test_figures/')"
   ],
   "metadata": {
    "collapsed": false,
    "pycharm": {
     "name": "#%%\n"
    }
   }
  }
 ],
 "metadata": {
  "kernelspec": {
   "display_name": "Python 3",
   "language": "python",
   "name": "python3"
  },
  "language_info": {
   "codemirror_mode": {
    "name": "ipython",
    "version": 3
   },
   "file_extension": ".py",
   "mimetype": "text/x-python",
   "name": "python",
   "nbconvert_exporter": "python",
   "pygments_lexer": "ipython3",
   "version": "3.8.2"
  },
  "pycharm": {
   "stem_cell": {
    "cell_type": "raw",
    "source": [],
    "metadata": {
     "collapsed": false
    }
   }
  }
 },
 "nbformat": 4,
 "nbformat_minor": 4
}