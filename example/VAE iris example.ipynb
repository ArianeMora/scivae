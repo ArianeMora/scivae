{
 "cells": [
  {
   "cell_type": "markdown",
   "metadata": {},
   "source": [
    "## Example using IRIS dataset"
   ]
  },
  {
   "cell_type": "code",
   "execution_count": 2,
   "metadata": {},
   "outputs": [
    {
     "name": "stdout",
     "output_type": "stream",
     "text": [
      "None\n",
      "\u001b[94m--------------------------------------------------------------------------------\u001b[0m\n",
      "\u001b[94m                               Encoder summary:\t                                \u001b[0m\n",
      "\u001b[94m--------------------------------------------------------------------------------\u001b[0m\n",
      "Model: \"encoder\"\n",
      "__________________________________________________________________________________________________\n",
      "Layer (type)                    Output Shape         Param #     Connected to                     \n",
      "==================================================================================================\n",
      "default_input (InputLayer)      [(None, 4)]          0                                            \n",
      "__________________________________________________________________________________________________\n",
      "dense (Dense)                   (None, 32)           160         default_input[0][0]              \n",
      "__________________________________________________________________________________________________\n",
      "batch_normalization (BatchNorma (None, 32)           128         dense[0][0]                      \n",
      "__________________________________________________________________________________________________\n",
      "dense_1 (Dense)                 (None, 16)           528         batch_normalization[0][0]        \n",
      "__________________________________________________________________________________________________\n",
      "batch_normalization_1 (BatchNor (None, 16)           64          dense_1[0][0]                    \n",
      "__________________________________________________________________________________________________\n",
      "z_mean (Dense)                  (None, 2)            34          batch_normalization_1[0][0]      \n",
      "__________________________________________________________________________________________________\n",
      "z_log_sigma (Dense)             (None, 2)            34          batch_normalization_1[0][0]      \n",
      "__________________________________________________________________________________________________\n",
      "z (Lambda)                      (None, 2)            0           z_mean[0][0]                     \n",
      "                                                                 z_log_sigma[0][0]                \n",
      "==================================================================================================\n",
      "Total params: 948\n",
      "Trainable params: 852\n",
      "Non-trainable params: 96\n",
      "__________________________________________________________________________________________________\n",
      "None\n",
      "\u001b[94m--------------------------------------------------------------------------------\u001b[0m\n",
      "\u001b[94m                               Decoder summary:\t                                \u001b[0m\n",
      "\u001b[94m--------------------------------------------------------------------------------\u001b[0m\n",
      "Model: \"decoder\"\n",
      "_________________________________________________________________\n",
      "Layer (type)                 Output Shape              Param #   \n",
      "=================================================================\n",
      "z_sampling (InputLayer)      [(None, 2)]               0         \n",
      "_________________________________________________________________\n",
      "dense_2 (Dense)              (None, 16)                48        \n",
      "_________________________________________________________________\n",
      "batch_normalization_2 (Batch (None, 16)                64        \n",
      "_________________________________________________________________\n",
      "dense_3 (Dense)              (None, 32)                544       \n",
      "_________________________________________________________________\n",
      "batch_normalization_3 (Batch (None, 32)                128       \n",
      "_________________________________________________________________\n",
      "dense_4 (Dense)              (None, 4)                 132       \n",
      "_________________________________________________________________\n",
      "batch_normalization_4 (Batch (None, 4)                 16        \n",
      "=================================================================\n",
      "Total params: 932\n",
      "Trainable params: 828\n",
      "Non-trainable params: 104\n",
      "_________________________________________________________________\n",
      "None\n",
      "Epoch 1/50\n",
      "3/3 [==============================] - 2s 136ms/step - loss: 65.0137 - val_loss: 45.2093\n",
      "Epoch 2/50\n",
      "3/3 [==============================] - 0s 10ms/step - loss: 61.4688 - val_loss: 44.5712\n",
      "Epoch 3/50\n",
      "3/3 [==============================] - 0s 8ms/step - loss: 59.8518 - val_loss: 44.3098\n",
      "Epoch 4/50\n",
      "3/3 [==============================] - 0s 7ms/step - loss: 59.3679 - val_loss: 43.8034\n",
      "Epoch 5/50\n",
      "3/3 [==============================] - 0s 8ms/step - loss: 58.3015 - val_loss: 43.6160\n",
      "Epoch 6/50\n",
      "3/3 [==============================] - 0s 7ms/step - loss: 56.7676 - val_loss: 43.2870\n",
      "Epoch 7/50\n",
      "3/3 [==============================] - 0s 7ms/step - loss: 57.2235 - val_loss: 43.2226\n",
      "Epoch 8/50\n",
      "3/3 [==============================] - 0s 7ms/step - loss: 54.7436 - val_loss: 43.1812\n",
      "Epoch 9/50\n",
      "3/3 [==============================] - 0s 7ms/step - loss: 55.0494 - val_loss: 43.4191\n",
      "Epoch 10/50\n",
      "3/3 [==============================] - 0s 8ms/step - loss: 54.0444 - val_loss: 42.9868\n",
      "Epoch 11/50\n",
      "3/3 [==============================] - 0s 7ms/step - loss: 53.5144 - val_loss: 43.8869\n",
      "Epoch 12/50\n",
      "3/3 [==============================] - 0s 7ms/step - loss: 52.4047 - val_loss: 43.9749\n",
      "Epoch 13/50\n",
      "3/3 [==============================] - 0s 8ms/step - loss: 51.8519 - val_loss: 43.8850\n",
      "Epoch 14/50\n",
      "3/3 [==============================] - 0s 7ms/step - loss: 52.9125 - val_loss: 43.1881\n",
      "Epoch 15/50\n",
      "3/3 [==============================] - 0s 7ms/step - loss: 50.8577 - val_loss: 42.9980\n",
      "Epoch 16/50\n",
      "3/3 [==============================] - 0s 8ms/step - loss: 50.1762 - val_loss: 41.9570\n",
      "Epoch 17/50\n",
      "3/3 [==============================] - 0s 7ms/step - loss: 50.1966 - val_loss: 41.9968\n",
      "Epoch 18/50\n",
      "3/3 [==============================] - 0s 8ms/step - loss: 48.5942 - val_loss: 41.8674\n",
      "Epoch 19/50\n",
      "3/3 [==============================] - 0s 7ms/step - loss: 48.9852 - val_loss: 41.5905\n",
      "Epoch 20/50\n",
      "3/3 [==============================] - 0s 7ms/step - loss: 48.5129 - val_loss: 41.5118\n",
      "Epoch 21/50\n",
      "3/3 [==============================] - 0s 8ms/step - loss: 48.6562 - val_loss: 41.6033\n",
      "Epoch 22/50\n",
      "3/3 [==============================] - 0s 7ms/step - loss: 47.6538 - val_loss: 41.6442\n",
      "Epoch 23/50\n",
      "3/3 [==============================] - 0s 7ms/step - loss: 46.3491 - val_loss: 41.2448\n",
      "Epoch 24/50\n",
      "3/3 [==============================] - 0s 8ms/step - loss: 46.8797 - val_loss: 41.9994\n",
      "Epoch 25/50\n",
      "3/3 [==============================] - 0s 7ms/step - loss: 46.3410 - val_loss: 41.5445\n",
      "Epoch 26/50\n",
      "3/3 [==============================] - 0s 8ms/step - loss: 46.1249 - val_loss: 41.1267\n",
      "Epoch 27/50\n",
      "3/3 [==============================] - 0s 9ms/step - loss: 45.6862 - val_loss: 41.1069\n",
      "Epoch 28/50\n",
      "3/3 [==============================] - 0s 7ms/step - loss: 45.2888 - val_loss: 40.9291\n",
      "Epoch 29/50\n",
      "3/3 [==============================] - 0s 7ms/step - loss: 44.2186 - val_loss: 40.4155\n",
      "Epoch 30/50\n",
      "3/3 [==============================] - 0s 7ms/step - loss: 44.6420 - val_loss: 39.8001\n",
      "Epoch 31/50\n",
      "3/3 [==============================] - 0s 7ms/step - loss: 44.0442 - val_loss: 39.6868\n",
      "Epoch 32/50\n",
      "3/3 [==============================] - 0s 7ms/step - loss: 43.3314 - val_loss: 39.3397\n",
      "Epoch 33/50\n",
      "3/3 [==============================] - 0s 7ms/step - loss: 42.9897 - val_loss: 38.9782\n",
      "Epoch 34/50\n",
      "3/3 [==============================] - 0s 8ms/step - loss: 42.9201 - val_loss: 39.4524\n",
      "Epoch 35/50\n",
      "3/3 [==============================] - 0s 7ms/step - loss: 42.4137 - val_loss: 39.4405\n",
      "Epoch 36/50\n",
      "3/3 [==============================] - 0s 7ms/step - loss: 42.1905 - val_loss: 39.0600\n",
      "Epoch 37/50\n",
      "3/3 [==============================] - 0s 8ms/step - loss: 41.6753 - val_loss: 38.1279\n",
      "Epoch 38/50\n",
      "3/3 [==============================] - 0s 7ms/step - loss: 41.9757 - val_loss: 38.3561\n",
      "Epoch 39/50\n",
      "3/3 [==============================] - 0s 7ms/step - loss: 41.4665 - val_loss: 38.9618\n",
      "Epoch 40/50\n",
      "3/3 [==============================] - 0s 8ms/step - loss: 41.0937 - val_loss: 38.4766\n",
      "Epoch 41/50\n",
      "3/3 [==============================] - 0s 7ms/step - loss: 41.1401 - val_loss: 38.2454\n",
      "Epoch 42/50\n",
      "3/3 [==============================] - 0s 7ms/step - loss: 40.1148 - val_loss: 38.8869\n",
      "Epoch 43/50\n"
     ]
    },
    {
     "name": "stdout",
     "output_type": "stream",
     "text": [
      "3/3 [==============================] - 0s 8ms/step - loss: 40.6444 - val_loss: 39.1155\n",
      "Epoch 44/50\n",
      "3/3 [==============================] - 0s 7ms/step - loss: 40.2660 - val_loss: 38.5849\n",
      "Epoch 45/50\n",
      "3/3 [==============================] - 0s 8ms/step - loss: 39.0426 - val_loss: 37.8461\n",
      "Epoch 46/50\n",
      "3/3 [==============================] - 0s 7ms/step - loss: 39.4149 - val_loss: 37.4848\n",
      "Epoch 47/50\n",
      "3/3 [==============================] - 0s 7ms/step - loss: 39.8937 - val_loss: 37.2382\n",
      "Epoch 48/50\n",
      "3/3 [==============================] - 0s 8ms/step - loss: 38.4354 - val_loss: 36.8940\n",
      "Epoch 49/50\n",
      "3/3 [==============================] - 0s 7ms/step - loss: 38.0241 - val_loss: 37.5336\n",
      "Epoch 50/50\n",
      "3/3 [==============================] - 0s 7ms/step - loss: 39.4242 - val_loss: 36.5274\n"
     ]
    }
   ],
   "source": [
    "\n",
    "import pandas as pd\n",
    "\n",
    "from scivae import VAE, Validate\n",
    "from sciviso import Scatterplot\n",
    "\n",
    "# Set the location of the mnist data\n",
    "data_dir = '../tests/data/'\n",
    "config = {'scale': False, # Whether to min max scale your data VAEs work best when data is pre-normalised & outliers removed for trainiing\n",
    "           'batch_norm': True, \n",
    "          'loss': {'loss_type': 'mse', # mean squared error\n",
    "           'distance_metric': 'mmd', # Maximum mean discrepency (can use kl but it works worse)\n",
    "            'mmd_weight': 1}, \n",
    "          'encoding': {'layers': [{'num_nodes': 32, 'activation_fn': 'selu'}, # First layer of encoding\n",
    "                                  {'num_nodes': 16, 'activation_fn': 'selu'}]}, # Second layer of encoding\n",
    "          'decoding': {'layers': [{'num_nodes': 16, 'activation_fn': 'selu'},  # First layer of decoding\n",
    "                                  {'num_nodes': 32, 'activation_fn': 'selu'}]}, # Second layer of decoding \n",
    " 'latent': {'num_nodes': 2}, 'optimiser': {'params': {}, 'name': 'adam'}} # Empty params means use default\n",
    "\n",
    "# Path to the data\n",
    "data = f'{data_dir}iris.csv'\n",
    "\n",
    "# Build a simple vae to learn the relations in the iris dataset\n",
    "df = pd.read_csv(data)\n",
    "\n",
    "# Set up what the columns are\n",
    "value_cols = ['sepal_length', 'sepal_width', 'petal_length', 'petal_width']\n",
    "vae = VAE(df[value_cols].values, df[value_cols].values, df['label'].values, config, 'vae')\n",
    "vae.encode('default')\n",
    "\n",
    "# Lets have a look at a scatterplot version & apply the class colours to our plot\n",
    "encoding = vae.get_encoded_data()\n",
    "decoding = vae.decoder.predict(encoding)\n"
   ]
  },
  {
   "cell_type": "markdown",
   "metadata": {},
   "source": [
    "## Visualise the latent space\n",
    "\n",
    "Visualise and colour the latent space.\n"
   ]
  },
  {
   "cell_type": "code",
   "execution_count": 3,
   "metadata": {},
   "outputs": [
    {
     "data": {
      "text/plain": [
       "<AxesSubplot:title={'center':'Latent space coloured by class'}, xlabel='VAE 0', ylabel='VAE 1'>"
      ]
     },
     "execution_count": 3,
     "metadata": {},
     "output_type": "execute_result"
    },
    {
     "data": {
      "image/png": "[encoded data removed]",
      "text/plain": [
       "<Figure size 216x216 with 1 Axes>"
      ]
     },
     "metadata": {},
     "output_type": "display_data"
    }
   ],
   "source": [
    "import seaborn as sns\n",
    "vis_df = pd.DataFrame()\n",
    "vis_df['latent_0'] = encoding[:, 0]\n",
    "vis_df['latent_1'] = encoding[:, 1]\n",
    "labels = df['label'].values\n",
    "lut = dict(zip(set(labels), sns.color_palette(\"coolwarm\", len(set(labels)))))\n",
    "row_colors2 = pd.DataFrame(labels)[0].map(lut)\n",
    "vis_df['label'] = row_colors2\n",
    "scatter = Scatterplot(vis_df, 'latent_0', 'latent_1', colour=row_colors2, title='Latent space coloured by class',\n",
    "                      xlabel='VAE 0', ylabel='VAE 1')\n",
    "scatter.plot()"
   ]
  },
  {
   "cell_type": "markdown",
   "metadata": {},
   "source": [
    "## Print out the accuracy\n",
    "\n",
    "Here we just get the accuracy of the encoding space when we use it as features for a classifier."
   ]
  },
  {
   "cell_type": "code",
   "execution_count": 4,
   "metadata": {},
   "outputs": [
    {
     "name": "stdout",
     "output_type": "stream",
     "text": [
      "0.9130434782608695\n",
      "0.8888888888888888\n"
     ]
    }
   ],
   "source": [
    "\n",
    "vd = Validate(vae, labels)\n",
    "print(vd.predict('rf', 'accuracy'))\n",
    "print(vd.predict('svm', 'balanced_accuracy'))"
   ]
  },
  {
   "cell_type": "code",
   "execution_count": null,
   "metadata": {},
   "outputs": [],
   "source": []
  }
 ],
 "metadata": {
  "kernelspec": {
   "display_name": "Python 3",
   "language": "python",
   "name": "python3"
  },
  "language_info": {
   "codemirror_mode": {
    "name": "ipython",
    "version": 3
   },
   "file_extension": ".py",
   "mimetype": "text/x-python",
   "name": "python",
   "nbconvert_exporter": "python",
   "pygments_lexer": "ipython3",
   "version": "3.6.13"
  }
 },
 "nbformat": 4,
 "nbformat_minor": 4
}
