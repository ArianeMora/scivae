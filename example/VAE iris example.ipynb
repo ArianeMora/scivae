{
 "cells": [
  {
   "cell_type": "markdown",
   "metadata": {},
   "source": [
    "## Example using IRIS dataset"
   ]
  },
  {
   "cell_type": "code",
   "execution_count": 1,
   "metadata": {},
   "outputs": [
    {
     "name": "stderr",
     "output_type": "stream",
     "text": [
      "2024-07-30 16:24:33.593887: I tensorflow/core/platform/cpu_feature_guard.cc:193] This TensorFlow binary is optimized with oneAPI Deep Neural Network Library (oneDNN) to use the following CPU instructions in performance-critical operations:  AVX2 AVX512F AVX512_VNNI AVX512_BF16 FMA\n",
      "To enable them in other operations, rebuild TensorFlow with the appropriate compiler flags.\n",
      "2024-07-30 16:24:33.696695: I tensorflow/core/util/util.cc:169] oneDNN custom operations are on. You may see slightly different numerical results due to floating-point round-off errors from different computation orders. To turn them off, set the environment variable `TF_ENABLE_ONEDNN_OPTS=0`.\n",
      "2024-07-30 16:24:33.701761: W tensorflow/stream_executor/platform/default/dso_loader.cc:64] Could not load dynamic library 'libcudart.so.11.0'; dlerror: libcudart.so.11.0: cannot open shared object file: No such file or directory\n",
      "2024-07-30 16:24:33.701773: I tensorflow/stream_executor/cuda/cudart_stub.cc:29] Ignore above cudart dlerror if you do not have a GPU set up on your machine.\n",
      "2024-07-30 16:24:33.722341: E tensorflow/stream_executor/cuda/cuda_blas.cc:2981] Unable to register cuBLAS factory: Attempting to register factory for plugin cuBLAS when one has already been registered\n",
      "2024-07-30 16:24:34.175970: W tensorflow/stream_executor/platform/default/dso_loader.cc:64] Could not load dynamic library 'libnvinfer.so.7'; dlerror: libnvinfer.so.7: cannot open shared object file: No such file or directory\n",
      "2024-07-30 16:24:34.176045: W tensorflow/stream_executor/platform/default/dso_loader.cc:64] Could not load dynamic library 'libnvinfer_plugin.so.7'; dlerror: libnvinfer_plugin.so.7: cannot open shared object file: No such file or directory\n",
      "2024-07-30 16:24:34.176051: W tensorflow/compiler/tf2tensorrt/utils/py_utils.cc:38] TF-TRT Warning: Cannot dlopen some TensorRT libraries. If you would like to use Nvidia GPU with TensorRT, please make sure the missing libraries mentioned above are installed properly.\n"
     ]
    },
    {
     "name": "stdout",
     "output_type": "stream",
     "text": [
      "None\n",
      "\u001b[94m--------------------------------------------------------------------------------\u001b[0m\n",
      "\u001b[94m                               Encoder summary:\t                                \u001b[0m\n",
      "\u001b[94m--------------------------------------------------------------------------------\u001b[0m\n",
      "Model: \"encoder\"\n",
      "__________________________________________________________________________________________________\n",
      " Layer (type)                   Output Shape         Param #     Connected to                     \n",
      "==================================================================================================\n",
      " default_input (InputLayer)     [(None, 4)]          0           []                               \n",
      "                                                                                                  \n",
      " dense (Dense)                  (None, 32)           160         ['default_input[0][0]']          \n",
      "                                                                                                  \n",
      " batch_normalization (BatchNorm  (None, 32)          128         ['dense[0][0]']                  \n",
      " alization)                                                                                       \n",
      "                                                                                                  \n",
      " dense_1 (Dense)                (None, 16)           528         ['batch_normalization[0][0]']    \n",
      "                                                                                                  \n",
      " batch_normalization_1 (BatchNo  (None, 16)          64          ['dense_1[0][0]']                \n",
      " rmalization)                                                                                     \n",
      "                                                                                                  \n",
      " z_mean (Dense)                 (None, 2)            34          ['batch_normalization_1[0][0]']  \n",
      "                                                                                                  \n",
      " z_log_sigma (Dense)            (None, 2)            34          ['batch_normalization_1[0][0]']  \n",
      "                                                                                                  \n",
      " z (Lambda)                     (None, 2)            0           ['z_mean[0][0]',                 \n",
      "                                                                  'z_log_sigma[0][0]']            \n",
      "                                                                                                  \n",
      "==================================================================================================\n",
      "Total params: 948\n",
      "Trainable params: 852\n",
      "Non-trainable params: 96\n",
      "__________________________________________________________________________________________________\n",
      "None\n",
      "\u001b[94m--------------------------------------------------------------------------------\u001b[0m\n",
      "\u001b[94m                               Decoder summary:\t                                \u001b[0m\n",
      "\u001b[94m--------------------------------------------------------------------------------\u001b[0m\n",
      "Model: \"decoder\"\n",
      "_________________________________________________________________\n",
      " Layer (type)                Output Shape              Param #   \n",
      "=================================================================\n",
      " z_sampling (InputLayer)     [(None, 2)]               0         \n",
      "                                                                 \n",
      " dense_2 (Dense)             (None, 16)                48        \n",
      "                                                                 \n",
      " batch_normalization_2 (Batc  (None, 16)               64        \n",
      " hNormalization)                                                 \n",
      "                                                                 \n",
      " dense_3 (Dense)             (None, 32)                544       \n",
      "                                                                 \n",
      " batch_normalization_3 (Batc  (None, 32)               128       \n",
      " hNormalization)                                                 \n",
      "                                                                 \n",
      " dense_4 (Dense)             (None, 4)                 132       \n",
      "                                                                 \n",
      " batch_normalization_4 (Batc  (None, 4)                16        \n",
      " hNormalization)                                                 \n",
      "                                                                 \n",
      "=================================================================\n",
      "Total params: 932\n",
      "Trainable params: 828\n",
      "Non-trainable params: 104\n",
      "_________________________________________________________________\n"
     ]
    },
    {
     "name": "stderr",
     "output_type": "stream",
     "text": [
      "2024-07-30 16:24:35.484936: W tensorflow/stream_executor/platform/default/dso_loader.cc:64] Could not load dynamic library 'libcudart.so.11.0'; dlerror: libcudart.so.11.0: cannot open shared object file: No such file or directory\n",
      "2024-07-30 16:24:35.485024: W tensorflow/stream_executor/platform/default/dso_loader.cc:64] Could not load dynamic library 'libcublas.so.11'; dlerror: libcublas.so.11: cannot open shared object file: No such file or directory\n",
      "2024-07-30 16:24:35.485079: W tensorflow/stream_executor/platform/default/dso_loader.cc:64] Could not load dynamic library 'libcublasLt.so.11'; dlerror: libcublasLt.so.11: cannot open shared object file: No such file or directory\n",
      "2024-07-30 16:24:35.485130: W tensorflow/stream_executor/platform/default/dso_loader.cc:64] Could not load dynamic library 'libcufft.so.10'; dlerror: libcufft.so.10: cannot open shared object file: No such file or directory\n",
      "2024-07-30 16:24:35.523428: W tensorflow/stream_executor/platform/default/dso_loader.cc:64] Could not load dynamic library 'libcusparse.so.11'; dlerror: libcusparse.so.11: cannot open shared object file: No such file or directory\n",
      "2024-07-30 16:24:35.523498: W tensorflow/stream_executor/platform/default/dso_loader.cc:64] Could not load dynamic library 'libcudnn.so.8'; dlerror: libcudnn.so.8: cannot open shared object file: No such file or directory\n",
      "2024-07-30 16:24:35.523507: W tensorflow/core/common_runtime/gpu/gpu_device.cc:1934] Cannot dlopen some GPU libraries. Please make sure the missing libraries mentioned above are installed properly if you would like to use GPU. Follow the guide at https://www.tensorflow.org/install/gpu for how to download and setup the required libraries for your platform.\n",
      "Skipping registering GPU devices...\n",
      "2024-07-30 16:24:35.523914: I tensorflow/core/platform/cpu_feature_guard.cc:193] This TensorFlow binary is optimized with oneAPI Deep Neural Network Library (oneDNN) to use the following CPU instructions in performance-critical operations:  AVX2 AVX512F AVX512_VNNI AVX512_BF16 FMA\n",
      "To enable them in other operations, rebuild TensorFlow with the appropriate compiler flags.\n"
     ]
    },
    {
     "name": "stdout",
     "output_type": "stream",
     "text": [
      "None\n",
      "Epoch 1/50\n",
      "3/3 [==============================] - 2s 170ms/step - loss: 65.8545 - val_loss: 46.0099\n",
      "Epoch 2/50\n",
      "3/3 [==============================] - 0s 49ms/step - loss: 62.0764 - val_loss: 44.4517\n",
      "Epoch 3/50\n",
      "3/3 [==============================] - 0s 52ms/step - loss: 60.6233 - val_loss: 43.4814\n",
      "Epoch 4/50\n",
      "3/3 [==============================] - 0s 38ms/step - loss: 61.5485 - val_loss: 42.6526\n",
      "Epoch 5/50\n",
      "3/3 [==============================] - 0s 39ms/step - loss: 60.3449 - val_loss: 42.8504\n",
      "Epoch 6/50\n",
      "3/3 [==============================] - 0s 53ms/step - loss: 60.3724 - val_loss: 42.7094\n",
      "Epoch 7/50\n",
      "3/3 [==============================] - 0s 54ms/step - loss: 60.1176 - val_loss: 42.9559\n",
      "Epoch 8/50\n",
      "3/3 [==============================] - 0s 39ms/step - loss: 59.5652 - val_loss: 43.0473\n",
      "Epoch 9/50\n",
      "3/3 [==============================] - 0s 39ms/step - loss: 59.7125 - val_loss: 43.1015\n",
      "Epoch 10/50\n",
      "3/3 [==============================] - 0s 37ms/step - loss: 60.6814 - val_loss: 43.4569\n",
      "Epoch 11/50\n",
      "3/3 [==============================] - 0s 38ms/step - loss: 59.1160 - val_loss: 43.6690\n",
      "Epoch 12/50\n",
      "3/3 [==============================] - 0s 40ms/step - loss: 58.4253 - val_loss: 43.2073\n",
      "Epoch 13/50\n",
      "3/3 [==============================] - 0s 39ms/step - loss: 57.9873 - val_loss: 42.9945\n",
      "Epoch 14/50\n",
      "3/3 [==============================] - 0s 52ms/step - loss: 58.2409 - val_loss: 43.1116\n",
      "Epoch 15/50\n",
      "3/3 [==============================] - 0s 37ms/step - loss: 59.5567 - val_loss: 43.3271\n",
      "Epoch 16/50\n",
      "3/3 [==============================] - 0s 37ms/step - loss: 59.5657 - val_loss: 43.5901\n",
      "Epoch 17/50\n",
      "3/3 [==============================] - 0s 38ms/step - loss: 57.9511 - val_loss: 43.5504\n",
      "Epoch 18/50\n",
      "3/3 [==============================] - 0s 38ms/step - loss: 58.3194 - val_loss: 43.8062\n",
      "Epoch 19/50\n",
      "3/3 [==============================] - 0s 38ms/step - loss: 57.4354 - val_loss: 44.1015\n",
      "Epoch 20/50\n",
      "3/3 [==============================] - 0s 48ms/step - loss: 58.0446 - val_loss: 44.4505\n",
      "Epoch 21/50\n",
      "3/3 [==============================] - 0s 38ms/step - loss: 58.3982 - val_loss: 44.1123\n",
      "Epoch 22/50\n",
      "3/3 [==============================] - 0s 47ms/step - loss: 59.1555 - val_loss: 44.4331\n",
      "Epoch 23/50\n",
      "3/3 [==============================] - 0s 36ms/step - loss: 56.7113 - val_loss: 43.5889\n",
      "Epoch 24/50\n",
      "3/3 [==============================] - 0s 46ms/step - loss: 58.0004 - val_loss: 43.8464\n",
      "Epoch 25/50\n",
      "3/3 [==============================] - 0s 46ms/step - loss: 56.9061 - val_loss: 44.5420\n",
      "Epoch 26/50\n",
      "3/3 [==============================] - 0s 43ms/step - loss: 57.2814 - val_loss: 44.1890\n",
      "Epoch 27/50\n",
      "3/3 [==============================] - 0s 38ms/step - loss: 56.4223 - val_loss: 44.2442\n",
      "Epoch 28/50\n",
      "3/3 [==============================] - 0s 45ms/step - loss: 57.6699 - val_loss: 44.2502\n",
      "Epoch 29/50\n",
      "3/3 [==============================] - 0s 44ms/step - loss: 57.4828 - val_loss: 45.3443\n",
      "Epoch 30/50\n",
      "3/3 [==============================] - 0s 37ms/step - loss: 55.7243 - val_loss: 45.1868\n",
      "Epoch 31/50\n",
      "3/3 [==============================] - 0s 47ms/step - loss: 56.5623 - val_loss: 45.0493\n",
      "Epoch 32/50\n",
      "3/3 [==============================] - 0s 42ms/step - loss: 56.1382 - val_loss: 45.6598\n",
      "Epoch 33/50\n",
      "3/3 [==============================] - 0s 37ms/step - loss: 56.7587 - val_loss: 45.6813\n",
      "Epoch 34/50\n",
      "3/3 [==============================] - 0s 37ms/step - loss: 55.6195 - val_loss: 45.8737\n",
      "Epoch 35/50\n",
      "3/3 [==============================] - 0s 46ms/step - loss: 56.9438 - val_loss: 44.3746\n",
      "Epoch 36/50\n",
      "3/3 [==============================] - 0s 37ms/step - loss: 56.3739 - val_loss: 45.6058\n",
      "Epoch 37/50\n",
      "3/3 [==============================] - 0s 37ms/step - loss: 56.2357 - val_loss: 45.5174\n",
      "Epoch 38/50\n",
      "3/3 [==============================] - 0s 44ms/step - loss: 55.5465 - val_loss: 46.2186\n",
      "Epoch 39/50\n",
      "3/3 [==============================] - 0s 38ms/step - loss: 56.7695 - val_loss: 45.6938\n",
      "Epoch 40/50\n",
      "3/3 [==============================] - 0s 37ms/step - loss: 56.5519 - val_loss: 46.0770\n",
      "Epoch 41/50\n",
      "3/3 [==============================] - 0s 38ms/step - loss: 56.4557 - val_loss: 45.9969\n",
      "Epoch 42/50\n",
      "3/3 [==============================] - 0s 37ms/step - loss: 55.2374 - val_loss: 45.2457\n",
      "Epoch 43/50\n",
      "3/3 [==============================] - 0s 37ms/step - loss: 55.3285 - val_loss: 46.1824\n",
      "Epoch 44/50\n",
      "3/3 [==============================] - 0s 36ms/step - loss: 55.9606 - val_loss: 46.3282\n",
      "Epoch 45/50\n",
      "3/3 [==============================] - 0s 38ms/step - loss: 55.1533 - val_loss: 45.9402\n",
      "Epoch 46/50\n",
      "3/3 [==============================] - 0s 38ms/step - loss: 57.1150 - val_loss: 45.7401\n",
      "Epoch 47/50\n",
      "3/3 [==============================] - 0s 36ms/step - loss: 55.4430 - val_loss: 46.1962\n",
      "Epoch 48/50\n",
      "3/3 [==============================] - 0s 39ms/step - loss: 55.4331 - val_loss: 46.4613\n",
      "Epoch 49/50\n",
      "3/3 [==============================] - 0s 36ms/step - loss: 54.8845 - val_loss: 45.9028\n",
      "Epoch 50/50\n",
      "3/3 [==============================] - 0s 37ms/step - loss: 54.8725 - val_loss: 47.1789\n",
      "5/5 [==============================] - 0s 1ms/step\n",
      "5/5 [==============================] - 0s 1ms/step\n"
     ]
    }
   ],
   "source": [
    "\n",
    "import pandas as pd\n",
    "\n",
    "from scivae import VAE, Validate\n",
    "from sciviso import Scatterplot\n",
    "\n",
    "# Set the location of the mnist data\n",
    "data_dir = '../tests/data/'\n",
    "config = {'scale': False, # Whether to min max scale your data VAEs work best when data is pre-normalised & outliers removed for trainiing\n",
    "           'batch_norm': True, \n",
    "          'loss': {'loss_type': 'mse', # mean squared error\n",
    "           'distance_metric': 'mmd', # Maximum mean discrepency (can use kl but it works worse)\n",
    "            'mmd_weight': 1}, \n",
    "          'encoding': {'layers': [{'num_nodes': 32, 'activation_fn': 'selu'}, # First layer of encoding\n",
    "                                  {'num_nodes': 16, 'activation_fn': 'selu'}]}, # Second layer of encoding\n",
    "          'decoding': {'layers': [{'num_nodes': 16, 'activation_fn': 'selu'},  # First layer of decoding\n",
    "                                  {'num_nodes': 32, 'activation_fn': 'selu'}]}, # Second layer of decoding \n",
    " 'latent': {'num_nodes': 2}, 'optimiser': {'params': {}, 'name': 'adagrad'}} # Empty params means use default\n",
    "\n",
    "# Path to the data\n",
    "data = f'{data_dir}iris.csv'\n",
    "\n",
    "# Build a simple vae to learn the relations in the iris dataset\n",
    "df = pd.read_csv(data)\n",
    "\n",
    "# Set up what the columns are\n",
    "value_cols = ['sepal_length', 'sepal_width', 'petal_length', 'petal_width']\n",
    "vae = VAE(df[value_cols].values, df[value_cols].values, df['label'].values, config, 'vae')\n",
    "vae.encode('default')\n",
    "\n",
    "# Lets have a look at a scatterplot version & apply the class colours to our plot\n",
    "encoding = vae.get_encoded_data()\n",
    "decoding = vae.decoder.predict(encoding)\n"
   ]
  },
  {
   "cell_type": "markdown",
   "metadata": {},
   "source": [
    "## Visualise the latent space\n",
    "\n",
    "Visualise and colour the latent space.\n"
   ]
  },
  {
   "cell_type": "code",
   "execution_count": null,
   "metadata": {},
   "outputs": [
    {
     "name": "stderr",
     "output_type": "stream",
     "text": [
      "/Users/ariane/opt/miniconda3/envs/test_scivae_2022/lib/python3.10/site-packages/sciviso/scatterplot.py:114: UserWarning: No data for colormapping provided via 'c'. Parameters 'cmap' will be ignored\n",
      "  scatter = ax.scatter(vis_df[x].values, vis_df[y].values, c=self.colour, alpha=self.opacity,\n"
     ]
    },
    {
     "data": {
      "text/plain": [
       "<AxesSubplot: title={'center': 'Latent space coloured by class'}, xlabel='VAE 0', ylabel='VAE 1'>"
      ]
     },
     "execution_count": 3,
     "metadata": {},
     "output_type": "execute_result"
    },
    {
     "data": {
      "image/png": "[encoded data removed]",
      "text/plain": [
       "<Figure size 300x300 with 1 Axes>"
      ]
     },
     "metadata": {},
     "output_type": "display_data"
    }
   ],
   "source": [
    "import seaborn as sns\n",
    "vis_df = pd.DataFrame()\n",
    "vis_df['latent_0'] = encoding[:, 0]\n",
    "vis_df['latent_1'] = encoding[:, 1]\n",
    "labels = df['label'].values\n",
    "lut = dict(zip(set(labels), sns.color_palette(\"coolwarm\", len(set(labels)))))\n",
    "row_colors2 = pd.DataFrame(labels)[0].map(lut)\n",
    "vis_df['label'] = row_colors2\n",
    "scatter = Scatterplot(vis_df, 'latent_0', 'latent_1', colour=row_colors2, title='Latent space coloured by class',\n",
    "                      xlabel='VAE 0', ylabel='VAE 1')\n",
    "scatter.plot()"
   ]
  },
  {
   "cell_type": "markdown",
   "metadata": {},
   "source": [
    "## Print out the accuracy\n",
    "\n",
    "Here we just get the accuracy of the encoding space when we use it as features for a classifier."
   ]
  },
  {
   "cell_type": "code",
   "execution_count": null,
   "metadata": {},
   "outputs": [
    {
     "name": "stdout",
     "output_type": "stream",
     "text": [
      "0.782608695652174\n",
      "0.9166666666666666\n"
     ]
    }
   ],
   "source": [
    "vd = Validate(encoding, labels)\n",
    "print(vd.predict('rf', 'accuracy'))\n",
    "print(vd.predict('svm', 'balanced_accuracy'))"
   ]
  },
  {
   "cell_type": "code",
   "execution_count": null,
   "metadata": {},
   "outputs": [],
   "source": []
  }
 ],
 "metadata": {
  "kernelspec": {
   "display_name": "Python 3 (ipykernel)",
   "language": "python",
   "name": "python3"
  },
  "language_info": {
   "codemirror_mode": {
    "name": "ipython",
    "version": 3
   },
   "file_extension": ".py",
   "mimetype": "text/x-python",
   "name": "python",
   "nbconvert_exporter": "python",
   "pygments_lexer": "ipython3",
   "version": "3.10.6"
  }
 },
 "nbformat": 4,
 "nbformat_minor": 4
}
