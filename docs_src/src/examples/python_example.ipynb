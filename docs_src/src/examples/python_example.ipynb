{
 "cells": [
  {
   "cell_type": "markdown",
   "source": [
    "## Example using IRIS dataset"
   ],
   "metadata": {
    "collapsed": false
   }
  },
  {
   "cell_type": "code",
   "execution_count": null,
   "outputs": [],
   "source": [
    "import os\n",
    "import shutil\n",
    "import tempfile\n",
    "import unittest\n",
    "import pandas as pd\n",
    "import seaborn as snsx\n",
    "import matplotlib.pyplot as plt\n",
    "import numpy as np\n",
    "\n",
    "from scivae import Optimiser, VAE, Validate\n",
    "from sciviso import Scatterplot\n",
    "\n",
    "# Set the location of the mnist data\n",
    "data_dir = ''\n",
    "loss = {'loss_type': 'mse', 'distance_metric': 'mmd', 'mmd_weight': 1}\n",
    "encoding = {'layers':[{'num_nodes': 3, 'activation_fn': 'selu'}]} \n",
    "decoding = {'layers': [{'num_nodes': 3, 'activation_fn': 'selu'}]}\n",
    "latent = {'num_nodes': 2}\n",
    "optimisers = {'name': 'adam', 'params': {}}\n",
    "\n",
    "config = {'loss': loss, 'encoding': encoding, 'decoding': decoding, 'latent': latent, 'optimiser': optimisers}\n",
    "\n",
    "# Path to the data\n",
    "data = f'{data_dir}iris.csv'\n",
    "\n",
    "# Build a simple vae to learn the relations in the iris dataset\n",
    "df = pd.read_csv(data)\n",
    "\n",
    "# Set up what the columns are\n",
    "value_cols = ['sepal_length', 'sepal_width', 'petal_length', 'petal_width']\n",
    "vae = VAE(df[value_cols].values, df[value_cols].values, df['label'].values, config, 'vae')\n",
    "vae.encode('default')\n",
    "\n",
    "# Lets have a look at a scatterplot version & apply the class colours to our plot\n",
    "encoding = vae.get_encoded_data()\n",
    "decoding = vae.decoder.predict(encoding)\n"
   ],
   "metadata": {
    "collapsed": false,
    "pycharm": {
     "name": "#%%\n"
    }
   }
  },
  {
   "cell_type": "markdown",
   "source": [
    "## Visualise the latent space\n",
    "\n",
    "Visualise and colour the latent space.\n"
   ],
   "metadata": {
    "collapsed": false
   }
  },
  {
   "cell_type": "code",
   "execution_count": null,
   "outputs": [],
   "source": [
    "import seaborn as sns\n",
    "vis_df = pd.DataFrame()\n",
    "vis_df['latent_0'] = encoding[:, 0]\n",
    "vis_df['latent_1'] = encoding[:, 1]\n",
    "labels = df['label'].values\n",
    "lut = dict(zip(set(labels), sns.color_palette(\"coolwarm\", len(set(labels)))))\n",
    "row_colors2 = pd.DataFrame(labels)[0].map(lut)\n",
    "vis_df['label'] = row_colors2\n",
    "scatter = Scatterplot(vis_df, 'latent_0', 'latent_1', colour=row_colors2, title='Latent space coloured by class', xlabel='asd')\n",
    "scatter.plot()"
   ],
   "metadata": {
    "collapsed": false,
    "pycharm": {
     "name": "#%%\n"
    }
   }
  },
  {
   "cell_type": "markdown",
   "source": [
    "## Print out the accuracy\n",
    "\n",
    "Here we just get the accuracy of the encoding space when we use it as features for a classifier."
   ],
   "metadata": {
    "collapsed": false
   }
  },
  {
   "cell_type": "code",
   "execution_count": null,
   "outputs": [],
   "source": [
    "\n",
    "vd = Validate(vae, labels)\n",
    "print(vd.predict('rf', 'accuracy'))\n",
    "print(vd.predict('svm', 'balanced_accuracy'))"
   ],
   "metadata": {
    "collapsed": false,
    "pycharm": {
     "name": "#%%\n"
    }
   }
  },
  {
   "cell_type": "markdown",
   "source": [
    "## Linear version of the same VAE\n",
    "\n",
    "Here we just show that you can have a linear VAE."
   ],
   "metadata": {
    "collapsed": false
   }
  },
  {
   "cell_type": "code",
   "execution_count": null,
   "outputs": [],
   "source": [
    "# Use the same parameters as before except we get rid of the encoding and decoding layers\n",
    "# This means it just goes straight to the encoding layer - hence a one layer VAE ~ linear.\n",
    "encoding = {'layers':[]} \n",
    "decoding = {'layers': []}\n",
    "config = {'loss': loss, 'encoding': encoding, 'decoding': decoding, 'latent': latent, 'optimiser': optimisers}\n",
    "\n",
    "\n",
    "# Build a simple vae to learn the relations in the iris dataset\n",
    "df = pd.read_csv(data)\n",
    "value_cols = ['sepal_length', 'sepal_width', 'petal_length', 'petal_width']\n",
    "lin_vae = VAE(df[value_cols].values, df[value_cols].values, df['label'].values, config, 'vae')\n",
    "lin_vae.encode('default')\n",
    "\n",
    "# Lets have a look at a scatterplot version & apply the class colours to our plot\n",
    "lin_encoding = lin_vae.get_encoded_data()\n",
    "lin_decoding = lin_vae.decoder.predict(lin_encoding)\n"
   ],
   "metadata": {
    "collapsed": false,
    "pycharm": {
     "name": "#%%\n"
    }
   }
  },
  {
   "cell_type": "code",
   "execution_count": null,
   "outputs": [],
   "source": [
    "# Plot the linear VAE latent space\n",
    "vis_df = pd.DataFrame()\n",
    "vis_df['latent_0'] = lin_encoding[:, 0]\n",
    "vis_df['latent_1'] = lin_decoding[:, 1]\n",
    "labels = df['label'].values\n",
    "lut = dict(zip(set(labels), sns.color_palette(\"coolwarm\", len(set(labels)))))\n",
    "row_colors2 = pd.DataFrame(labels)[0].map(lut)\n",
    "vis_df['label'] = row_colors2\n",
    "scatter = Scatterplot(vis_df, 'latent_0', 'latent_1', colour=row_colors2, title='Linear VAE output')\n",
    "scatter.plot()\n",
    "plt.show()\n"
   ],
   "metadata": {
    "collapsed": false,
    "pycharm": {
     "name": "#%%\n"
    }
   }
  },
  {
   "cell_type": "markdown",
   "source": [
    "## Look at the acuracy of linear VAE\n",
    "\n",
    "Here let's have a look at the how accruate the linear VAE latent features are at predicting the class."
   ],
   "metadata": {
    "collapsed": false
   }
  },
  {
   "cell_type": "code",
   "execution_count": null,
   "outputs": [],
   "source": [
    "\n",
    "vd = Validate(lin_vae, labels)\n",
    "print(vd.predict('rf', 'accuracy'))\n",
    "print(vd.predict('svm', 'balanced_accuracy'))"
   ],
   "metadata": {
    "collapsed": false,
    "pycharm": {
     "name": "#%%\n"
    }
   }
  },
  {
   "cell_type": "markdown",
   "source": [
    "\n",
    "vd = Validate(lin_vae, labels)\n",
    "print(vd.predict('rf', 'accuracy'))\n",
    "print(vd.predict('svm', 'balanced_accuracy'))"
   ],
   "metadata": {
    "collapsed": false
   }
  },
  {
   "cell_type": "code",
   "execution_count": null,
   "outputs": [],
   "source": [
    "import os\n",
    "import shutil\n",
    "import tempfile\n",
    "import unittest\n",
    "import pandas as pd\n",
    "import seaborn as snsx\n",
    "import matplotlib.pyplot as plt\n",
    "import numpy as np\n",
    "\n",
    "from scivae import Optimiser, VAE, Validate\n",
    "from sciviso import Scatterplot\n",
    "\n",
    "# Set the location of the mnist data\n",
    "data_dir = '../tests/data/'\n",
    "loss = {'loss_type': 'mse', 'distance_metric': 'mmd', 'mmd_weight': 1}\n",
    "encoding = {'layers':[{'num_nodes': 3, 'activation_fn': 'selu'}]} \n",
    "decoding = {'layers': [{'num_nodes': 3, 'activation_fn': 'selu'}]}\n",
    "latent = {'num_nodes': 2}\n",
    "optimisers = {'name': 'adam', 'params': {}}\n",
    "\n",
    "config = {'loss': loss, 'encoding': encoding, 'decoding': decoding, 'latent': latent, 'optimiser': optimisers}\n",
    "\n",
    "# Path to the data\n",
    "data = f'{data_dir}iris.csv'\n",
    "\n",
    "# Build a simple vae to learn the relations in the iris dataset\n",
    "df = pd.read_csv(data)\n",
    "\n",
    "# Set up what the columns are\n",
    "value_cols = ['sepal_length', 'sepal_width', 'petal_length', 'petal_width']\n",
    "vae = VAE(df[value_cols].values, df[value_cols].values, df['label'].values, config, 'vae')\n",
    "vae.encode('default')\n",
    "\n",
    "# Lets have a look at a scatterplot version & apply the class colours to our plot\n",
    "encoding = vae.get_encoded_data()\n",
    "decoding = vae.decoder.predict(encoding)\n"
   ],
   "metadata": {
    "collapsed": false,
    "pycharm": {
     "name": "#%%\n"
    }
   }
  },
  {
   "cell_type": "markdown",
   "source": [
    "## Visualise the latent space\n",
    "\n",
    "Visualise and colour the latent space.\n"
   ],
   "metadata": {
    "collapsed": false
   }
  },
  {
   "cell_type": "code",
   "execution_count": null,
   "outputs": [],
   "source": [
    "import seaborn as sns\n",
    "vis_df = pd.DataFrame()\n",
    "vis_df['latent_0'] = encoding[:, 0]\n",
    "vis_df['latent_1'] = encoding[:, 1]\n",
    "labels = df['label'].values\n",
    "lut = dict(zip(set(labels), sns.color_palette(\"coolwarm\", len(set(labels)))))\n",
    "row_colors2 = pd.DataFrame(labels)[0].map(lut)\n",
    "vis_df['label'] = row_colors2\n",
    "scatter = Scatterplot(vis_df, 'latent_0', 'latent_1', colour=row_colors2, title='Latent space coloured by class', xlabel='asd')\n",
    "scatter.plot()"
   ],
   "metadata": {
    "collapsed": false,
    "pycharm": {
     "name": "#%%\n"
    }
   }
  },
  {
   "cell_type": "markdown",
   "source": [
    "## Print out the accuracy\n",
    "\n",
    "Here we just get the accuracy of the encoding space when we use it as features for a classifier."
   ],
   "metadata": {
    "collapsed": false
   }
  },
  {
   "cell_type": "code",
   "execution_count": null,
   "outputs": [],
   "source": [
    "\n",
    "vd = Validate(vae, labels)\n",
    "print(vd.predict('rf', 'accuracy'))\n",
    "print(vd.predict('svm', 'balanced_accuracy'))"
   ],
   "metadata": {
    "collapsed": false,
    "pycharm": {
     "name": "#%%\n"
    }
   }
  },
  {
   "cell_type": "markdown",
   "source": [
    "## Linear version of the same VAE\n",
    "\n",
    "Here we just show that you can have a linear VAE."
   ],
   "metadata": {
    "collapsed": false
   }
  },
  {
   "cell_type": "code",
   "execution_count": null,
   "outputs": [],
   "source": [
    "# Use the same parameters as before except we get rid of the encoding and decoding layers\n",
    "# This means it just goes straight to the encoding layer - hence a one layer VAE ~ linear.\n",
    "encoding = {'layers':[]} \n",
    "decoding = {'layers': []}\n",
    "config = {'loss': loss, 'encoding': encoding, 'decoding': decoding, 'latent': latent, 'optimiser': optimisers}\n",
    "\n",
    "\n",
    "# Build a simple vae to learn the relations in the iris dataset\n",
    "df = pd.read_csv(data)\n",
    "value_cols = ['sepal_length', 'sepal_width', 'petal_length', 'petal_width']\n",
    "lin_vae = VAE(df[value_cols].values, df[value_cols].values, df['label'].values, config, 'vae')\n",
    "lin_vae.encode('default')\n",
    "\n",
    "# Lets have a look at a scatterplot version & apply the class colours to our plot\n",
    "lin_encoding = lin_vae.get_encoded_data()\n",
    "lin_decoding = lin_vae.decoder.predict(lin_encoding)\n"
   ],
   "metadata": {
    "collapsed": false,
    "pycharm": {
     "name": "#%%\n"
    }
   }
  },
  {
   "cell_type": "code",
   "execution_count": null,
   "outputs": [],
   "source": [
    "# Plot the linear VAE latent space\n",
    "vis_df = pd.DataFrame()\n",
    "vis_df['latent_0'] = lin_encoding[:, 0]\n",
    "vis_df['latent_1'] = lin_decoding[:, 1]\n",
    "labels = df['label'].values\n",
    "lut = dict(zip(set(labels), sns.color_palette(\"coolwarm\", len(set(labels)))))\n",
    "row_colors2 = pd.DataFrame(labels)[0].map(lut)\n",
    "vis_df['label'] = row_colors2\n",
    "scatter = Scatterplot(vis_df, 'latent_0', 'latent_1', colour=row_colors2, title='Linear VAE output')\n",
    "scatter.plot()\n",
    "plt.show()\n"
   ],
   "metadata": {
    "collapsed": false,
    "pycharm": {
     "name": "#%%\n"
    }
   }
  },
  {
   "cell_type": "markdown",
   "source": [
    "## Look at the acuracy of linear VAE\n",
    "\n",
    "Here let's have a look at the how accruate the linear VAE latent features are at predicting the class."
   ],
   "metadata": {
    "collapsed": false
   }
  },
  {
   "cell_type": "code",
   "execution_count": null,
   "outputs": [],
   "source": [
    "\n",
    "vd = Validate(lin_vae, labels)\n",
    "print(vd.predict('rf', 'accuracy'))\n",
    "print(vd.predict('svm', 'balanced_accuracy'))"
   ],
   "metadata": {
    "collapsed": false,
    "pycharm": {
     "name": "#%%\n"
    }
   }
  }
 ],
 "metadata": {
  "kernelspec": {
   "display_name": "Python 3",
   "language": "python",
   "name": "python3"
  },
  "language_info": {
   "codemirror_mode": {
    "name": "ipython",
    "version": 3
   },
   "file_extension": ".py",
   "mimetype": "text/x-python",
   "name": "python",
   "nbconvert_exporter": "python",
   "pygments_lexer": "ipython3",
   "version": "3.8.2"
  },
  "pycharm": {
   "stem_cell": {
    "cell_type": "raw",
    "source": [],
    "metadata": {
     "collapsed": false
    }
   }
  }
 },
 "nbformat": 4,
 "nbformat_minor": 1
}